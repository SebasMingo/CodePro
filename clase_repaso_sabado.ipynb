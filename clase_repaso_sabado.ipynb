{
 "cells": [
  {
   "cell_type": "markdown",
   "metadata": {},
   "source": [
    "Challenge - El precio de alquilar un quincho es 120.000 guaranies. Dependiendo de las siguientes condiciones, se puede obtener un descuento:\n",
    "    Si es mayor de edad y esta trabajando -> Paga el 100%\n",
    "    Si es menor de edad y esta trabajando -> Paga el 95%\n",
    "    Si es mayor de edad y no esta trabajando -> Paga el 75%\n",
    "    Si es menor de edad y no esta trabajando -> Paga el 50%\n",
    "\n",
    "Teniendo la edad de la persona y si trabaja o no, imprimir el precio de alquilar el quincho"
   ]
  },
  {
   "cell_type": "code",
   "execution_count": 8,
   "metadata": {},
   "outputs": [
    {
     "name": "stdout",
     "output_type": "stream",
     "text": [
      "Paga un monto de 114000.0\n"
     ]
    }
   ],
   "source": [
    "#Declaramos un funcion que se llama aquilar\n",
    "def alquilar():\n",
    "    ##El precio de alquilar el quincho es de 120.000 Gs\n",
    "    precio_alquilar = 120000\n",
    "    #Pedimos al usuario que ingrese su edad\n",
    "    edad = int(input('Ingresar edad'))\n",
    "    #Pedimos al usuario que ingrese si actualmente esta trabajando o no\n",
    "    trabajando = input('Estas trabajando actualmente, responda con si o no')\n",
    "    #Convertimos la respuesta que ha ingresado el usuario a minusculas para evitar errores\n",
    "    trabajando = trabajando.lower()\n",
    "    #declaramos una variable que llamamos si \n",
    "    afirmativo = 'si'\n",
    "    negativo = 'no'\n",
    "    \n",
    "\n",
    "\n",
    "    #si es mayor a 18 y esta trabajando -> paga el 100%\n",
    "    if edad > 18 and trabajando == afirmativo:\n",
    "        print(f'Paga un monto de {precio_alquilar}')\n",
    "    elif edad < 18 and trabajando == afirmativo:\n",
    "        print(f'Paga un monto de {precio_alquilar * 0.95}')\n",
    "    elif edad > 18 and trabajando == negativo:\n",
    "        print(f'Paga un monto de {precio_alquilar * 0.75}')\n",
    "    else:\n",
    "        print(f'Paga un monto de {precio_alquilar * 0.5}')\n",
    "    \n",
    "alquilar()\n",
    "\n",
    "\n",
    "\n",
    "    "
   ]
  },
  {
   "cell_type": "markdown",
   "metadata": {},
   "source": [
    "Challenge - Crear una funcion que pida como parametro el nombre, correo y contresenha de un usuario, retornar true y un mensaje si la contrasenha tiene mas de 4 caracteres y el correo contiene un \"@\" De lo contrario, retornar false con otro mensaje"
   ]
  },
  {
   "cell_type": "code",
   "execution_count": 2,
   "metadata": {},
   "outputs": [
    {
     "data": {
      "text/plain": [
       "(False,\n",
       " 'La contrasena que has ingresado tiene menos 4 caracteres y el correo que ingresaste no posee \"@\"')"
      ]
     },
     "execution_count": 2,
     "metadata": {},
     "output_type": "execute_result"
    }
   ],
   "source": [
    "#Creamos la funcion usuario con los parametros nombre, correo y contrasena\n",
    "def usuario(nombre,correo, contrasena):\n",
    "    #creo un variable string que voy a usar de manera que los parametros sean verdaderos\n",
    "    mensaje_true = 'La contrasena que has ingresado tiene mas 4 caracteres y el correo que ingresaste posee \"@\"'\n",
    "    #creo un variable string que voy a usar de manera que los parametros sean falsos\n",
    "    mensaje_false = 'La contrasena que has ingresado tiene menos 4 caracteres y el correo que ingresaste no posee \"@\"'\n",
    "    #Si los caracteres que tiene mi contrasena son mayores a 4 y el correo posee \"@\"\n",
    "    if len(contrasena)>4 and '@' in correo :\n",
    "        #Si los caracteres que tiene mi contrasena son mayores a 4 y el correo posee \"@\" \n",
    "        #los parametros son verdaderos, por lo tanto es caracter booleano True e imprime el mensaje_true  \n",
    "        return(f'True {mensaje_true}')\n",
    "        #Si los caracteres que tiene mi contrasena son menores a 4 y el correo no posee \"@\" \n",
    "        #los parametros son falsos, por lo tanto es caracter booleano True e imprime el mensaje_false \n",
    "    else:\n",
    "        return False,mensaje_false\n",
    "\n",
    "usuario('Sebastian', 'sebas_mingohomail.com', 'mini')\n"
   ]
  },
  {
   "cell_type": "markdown",
   "metadata": {},
   "source": [
    "challenge - \n",
    "Imaginemos un cajero automatico...\n",
    "\n",
    "Crear una funcion que imprima el saldo de la cuenta del usuario\n",
    "Crear una funcion extraer_dinero() que tome un numero(cantidad a extraer) como argumento. Retornar la cantidad a extraer y almacenarla en una variable.\n",
    "Crear una funcion comprar_coquita() que tome un numero(dinero disponible) como argumento. Si el dinero disponible es mayor o igual a 5000, imprimir \"Disfruta tu coquita\", si es menos a 5000 imprimir \"Hendy\"."
   ]
  },
  {
   "cell_type": "code",
   "execution_count": 13,
   "metadata": {},
   "outputs": [
    {
     "name": "stdout",
     "output_type": "stream",
     "text": [
      "50000\n",
      "Hendy\n"
     ]
    }
   ],
   "source": [
    "#Definimos primeramente la funcion saldo \n",
    "def saldo():\n",
    "    #creamos la variable dinero_disponible al cual asignamos unvalor de 50000\n",
    "    dinero_disponible = 50000\n",
    "    #imprimos el valor\n",
    "    print(dinero_disponible)\n",
    "    \n",
    "saldo()\n",
    "\n",
    "\n",
    "#Definimos la funcion extraer_dinero a la cual le pedimos que tome el argumento cantidad_a_extraer \n",
    "def extraer_dinero(cantidad_a_extraer):\n",
    "    #retornamos la variable cantidad_a_extraer la cual contiene un numero que sera la cantidad a extraer\n",
    "    return cantidad_a_extraer \n",
    "#guardamos la funcion extraer_dinero en la variable resultado\n",
    "efectivo = extraer_dinero(6000)\n",
    "\n",
    "\n",
    "#definimos la funcion comprar_coquita la cual tiene como parametro dinero_en_cuenta \n",
    "def comprar_coquita(dinero_en_cuenta_disponible):\n",
    "    #si resultado es mayor o igual a 5000\n",
    "    if dinero_en_cuenta_disponible>= 5000:\n",
    "        #si el resultado es mayor o igual a 5000, imprime \"disfruta tu coquita\"\n",
    "        print('disfruta tu coquita')\n",
    "        #si el resultado es menor a 5000, imprime \"hendy\"\n",
    "    else:\n",
    "        print('Hendy')\n",
    "\n",
    "comprar_coquita(efectivo)\n"
   ]
  }
 ],
 "metadata": {
  "kernelspec": {
   "display_name": "Python 3",
   "language": "python",
   "name": "python3"
  },
  "language_info": {
   "codemirror_mode": {
    "name": "ipython",
    "version": 3
   },
   "file_extension": ".py",
   "mimetype": "text/x-python",
   "name": "python",
   "nbconvert_exporter": "python",
   "pygments_lexer": "ipython3",
   "version": "3.11.6"
  }
 },
 "nbformat": 4,
 "nbformat_minor": 2
}
