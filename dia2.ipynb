{
 "cells": [
  {
   "cell_type": "markdown",
   "metadata": {},
   "source": [
    "Condicionales"
   ]
  },
  {
   "cell_type": "code",
   "execution_count": 1,
   "metadata": {},
   "outputs": [
    {
     "name": "stdout",
     "output_type": "stream",
     "text": [
      "False\n",
      "False\n",
      "True\n"
     ]
    }
   ],
   "source": [
    "#mayor que otro >\n",
    "#menor que otro <\n",
    "#mayor o igual que otro >=\n",
    "#menor o igual qu eotro <=\n",
    "#igual a otro ==\n",
    "#desigual o distinto !=\n",
    "\n",
    "num1 = 19\n",
    "num2 = 20\n",
    "nombre1 = 'Ana'\n",
    "nombre2 = 'Pedro'\n",
    "\n",
    "#print(num1<num2)\n",
    "print(num1>num2)\n",
    "print(num1==num2)\n",
    "\n",
    "print(nombre1!=nombre2)\n",
    "\n"
   ]
  },
  {
   "cell_type": "code",
   "execution_count": 5,
   "metadata": {},
   "outputs": [
    {
     "name": "stdout",
     "output_type": "stream",
     "text": [
      "Sos un menor\n"
     ]
    }
   ],
   "source": [
    "#Si se da una condicion:\n",
    "#Realizo una accion\n",
    "\n",
    "edad = 17\n",
    "\n",
    "if edad >= 18: #(si)\n",
    "    print('Sos mayor ')\n",
    "else: #(sino)\n",
    "    print('Sos un menor')"
   ]
  },
  {
   "cell_type": "code",
   "execution_count": 11,
   "metadata": {},
   "outputs": [
    {
     "name": "stdout",
     "output_type": "stream",
     "text": [
      "Sos activo laboral\n"
     ]
    }
   ],
   "source": [
    "edad = int(input('Ingrese su edad'))\n",
    "\n",
    "#Si la edad es menor a 18:\n",
    "    #imprimir es menor\n",
    "\n",
    "if edad <18:\n",
    "    print('Sos un menor de edad')\n",
    "\n",
    "#Si es mayor o igual a 65\n",
    "    #imprimir sos un jubilado\n",
    "elif edad >=65:\n",
    "    print('sos un jubilado')\n",
    "#Sino se da nada de lo anterior\n",
    "    # imprimir sos activo laboral\n",
    "else:\n",
    "    print('Sos activo laboral')\n"
   ]
  },
  {
   "cell_type": "code",
   "execution_count": 13,
   "metadata": {},
   "outputs": [
    {
     "name": "stdout",
     "output_type": "stream",
     "text": [
      "False\n",
      "True\n"
     ]
    }
   ],
   "source": [
    "#Operadores logicos\n",
    "#and (y)\n",
    "#or (o)\n",
    "#not (no)\n",
    "\n",
    "num1 = 19\n",
    "num2 = 20\n",
    "num3 = 21\n",
    "\n",
    "print(num1<num2 and num3 < num2)\n",
    "print(num1<num2 or num3 < num2)\n",
    "\n"
   ]
  },
  {
   "cell_type": "markdown",
   "metadata": {},
   "source": [
    "Challenge - Escribe un programa que pregunte al usuario por su edad y determine si tiene edad suficeinte para comprar y consumir alcohol.\n",
    "Si el usuario tiene mas de 18 pero menos de 21 imprimir \"Podes tomar pero no comprar\"\n",
    "Si el usuario tiene menos de 18 imprimir \"Juguito nomas\"\n",
    "si el usuario tiene mas de 21 imprimir \"Hace lo que quieras\""
   ]
  },
  {
   "cell_type": "code",
   "execution_count": 20,
   "metadata": {},
   "outputs": [
    {
     "name": "stdout",
     "output_type": "stream",
     "text": [
      "Hace lo que quieras\n"
     ]
    }
   ],
   "source": [
    "#Preguntar al usuario por su edad\n",
    "edad = int(input('Cual es tu edad?'))\n",
    "#en caso de que tenga 18 pero menos de 21,decir que\n",
    "if edad> 18 and edad<21: #si\n",
    "    print('Podes tomar pero no comprar')\n",
    "#en caso de que te menos de 18, decir que \n",
    "elif edad <18: #sino si\n",
    "    print('Juguito nomas')\n",
    "#en caso de que mas de 21, decir que \n",
    "else: #sino\n",
    "    print('Hace lo que quieras')"
   ]
  },
  {
   "cell_type": "code",
   "execution_count": 23,
   "metadata": {},
   "outputs": [
    {
     "name": "stdout",
     "output_type": "stream",
     "text": [
      "Juguito nomas\n"
     ]
    }
   ],
   "source": [
    "#funcion verificar edad\n",
    "def verificar_edad():\n",
    "    #Preguntar al usuario por su edad\n",
    "    edad = int(input('Cual es tu edad?'))\n",
    "#en caso de que tenga 18 pero menos de 21,decir que\n",
    "    if edad> 18 and edad<21: #si\n",
    "        print('Podes tomar pero no comprar')\n",
    "#en caso de que te menos de 18, decir que \n",
    "    elif edad <18: #sino si\n",
    "        print('Juguito nomas')\n",
    "#en caso de que mas de 21, decir que \n",
    "    else: #sino\n",
    "        print('Hace lo que quieras')\n",
    "\n",
    "verificar_edad()\n",
    "    "
   ]
  },
  {
   "cell_type": "code",
   "execution_count": 28,
   "metadata": {},
   "outputs": [],
   "source": [
    "def verificar_ips(edad,trabajo ):\n",
    "    edad = int(input('Ingrese su edad'))\n",
    "    \n",
    "\n",
    "#Si la edad es menor a 18:\n",
    "    #imprimir es menor\n",
    "\n",
    "    if edad <18:\n",
    "        print('Sos un menor de edad')\n",
    "\n",
    "#Si es mayor o igual a 65\n",
    "    #imprimir sos un jubilado\n",
    "    elif edad >=65:\n",
    "        print('sos un jubilado')\n",
    "#Sino se da nada de lo anterior\n",
    "    # imprimir sos activo laboral\n",
    "    else:\n",
    "        if trabajo != T'Si' or Jefe != 'Si':\n",
    "            print('Sos activo laboral, pero no tenes que tener IPS')\n",
    "        else:\n",
    "            print('sos activo laboral, tenes que tener IPS')\n",
    "\n",
    "\n",
    "verificar_ips(19, False, True)"
   ]
  },
  {
   "cell_type": "markdown",
   "metadata": {},
   "source": [
    "Challenge - Hacer una funcion en el que se pregunte al usuario por una temperatura(en grados Celsius), imprima la temperatura escrita, y luego clasificar la temperatura ingresada en los siguientes niveles:\n",
    "Entre -10 y 18 grados, que imprima \"Fresquete\". entre 19 y 30 grados, que imprima \"Calor'i\". entre 31 y 45 grados, que imprima \"Hakuuuuuu\". Para todo lo demas, imprimir \"Namano mba'e\"."
   ]
  },
  {
   "cell_type": "code",
   "execution_count": 20,
   "metadata": {},
   "outputs": [
    {
     "name": "stdout",
     "output_type": "stream",
     "text": [
      "Esta es la temperatura actual 20\n",
      "Calor'i\n"
     ]
    }
   ],
   "source": [
    "def temperatura_actual():\n",
    "    temperatura = int(input('Cual es la temperatura actual en grados Celsius?'))\n",
    "    print(f'Esta es la temperatura actual {temperatura}')\n",
    "\n",
    "    if temperatura >-10 and temperatura < 18:\n",
    "        print('Fresquete')\n",
    "    elif temperatura > 19 and temperatura< 30:\n",
    "        print(\"Calor'i\")\n",
    "    elif temperatura > 31 and temperatura < 45:\n",
    "        print('Hakuuuuu')\n",
    "    else:\n",
    "        print(\"Namano mba'e\") \n",
    "\n",
    "temperatura_actual()\n"
   ]
  },
  {
   "cell_type": "markdown",
   "metadata": {},
   "source": [
    "Bucles \n",
    "Toda accion que se repite es un bucle"
   ]
  },
  {
   "cell_type": "code",
   "execution_count": null,
   "metadata": {},
   "outputs": [],
   "source": [
    "Bucles Condicionales  (While -> Mientras)"
   ]
  },
  {
   "cell_type": "code",
   "execution_count": null,
   "metadata": {},
   "outputs": [],
   "source": [
    "contador = 1\n",
    "#mientras mi contador <3:\n",
    "    #Imprimir el mensaje\n",
    "while contador <= 6:\n",
    "    print('Hola soy el tutu')\n",
    "    contador = contador + 1\n",
    "\n"
   ]
  },
  {
   "cell_type": "code",
   "execution_count": 24,
   "metadata": {},
   "outputs": [
    {
     "name": "stdout",
     "output_type": "stream",
     "text": [
      "te equivocaste chamigo, volve a intentar\n",
      "te equivocaste chamigo, volve a intentar\n",
      "te equivocaste chamigo, volve a intentar\n",
      "Acertaste adelante\n"
     ]
    }
   ],
   "source": [
    "numero_secreto = 20\n",
    "\n",
    "numero_usuario = int(input('Ingrese un numero'))\n",
    "\n",
    "while numero_secreto != numero_usuario:\n",
    "    print('te equivocaste chamigo, volve a intentar')\n",
    "    numero_usuario = int(input('Ingrese un numero'))\n",
    "\n",
    "print('Acertaste adelante')"
   ]
  },
  {
   "cell_type": "code",
   "execution_count": 25,
   "metadata": {},
   "outputs": [
    {
     "name": "stdout",
     "output_type": "stream",
     "text": [
      "Te equivocaste intenta de nuevo\n",
      "Te equivocaste intenta de nuevo\n",
      "Te equivocaste intenta de nuevo\n",
      "Acertaste el numero\n"
     ]
    }
   ],
   "source": [
    "# Bucle Infinito\n",
    "numero_secreto = 15\n",
    "while True:\n",
    "    numero_usuario = int (input('Ingrese un numero'))\n",
    "\n",
    "    if numero_usuario == numero_secreto:\n",
    "        print('Acertaste el numero')\n",
    "        break\n",
    "    else:\n",
    "        print('Te equivocaste intenta de nuevo')"
   ]
  },
  {
   "cell_type": "markdown",
   "metadata": {},
   "source": [
    "challenge - escribir un programa que almacene una contrasena en una variable, y pregunte al usuario por la contrasena hasta que introduzca la contrasena correcta.\n",
    "Cuando el usuario ingrese la contrasena correcta, imprimir un mensaje secreto.\n"
   ]
  },
  {
   "cell_type": "code",
   "execution_count": 31,
   "metadata": {},
   "outputs": [
    {
     "name": "stdout",
     "output_type": "stream",
     "text": [
      "Vuelve a intentar\n",
      "Vuelve a intentar\n",
      "Vuelve a intentar\n",
      "Vuelve a intentar\n",
      "La contraseña es correcta, adelante puede ingresar\n"
     ]
    }
   ],
   "source": [
    "contrasenia_secreta = 123456789\n",
    "while True:\n",
    "    contrasenia_ingresada = int(input('Ingrese la contraseña'))\n",
    "\n",
    "    if contrasenia_secreta == contrasenia_ingresada:\n",
    "        print('La contraseña es correcta, adelante, puede ingresar')\n",
    "        break\n",
    "    else:\n",
    "        print('Vuelve a intentar')"
   ]
  },
  {
   "cell_type": "markdown",
   "metadata": {},
   "source": [
    "Listas"
   ]
  },
  {
   "cell_type": "code",
   "execution_count": 35,
   "metadata": {},
   "outputs": [
    {
     "name": "stdout",
     "output_type": "stream",
     "text": [
      "Pedro papaletas frita\n",
      " tomate\n",
      "['papa frita', ' coca colex', ' tomate', 'cafe', 1212, True, 1.86]\n",
      "['Jazmin', 'Pedro', 'Jose']\n",
      "['Jazmin', 'Pedro', 'Jose', 'Celeste', 'tutu', 'Edu']\n",
      "['Jazmin', 'Pedro', 'Jose', 'Celeste', 'Edu']\n",
      "['Jazmin', 'Pedro', 'Jose', 'Celeste']\n",
      "4\n"
     ]
    }
   ],
   "source": [
    "# Lista del super\n",
    "lista_super = ['papaletas frita', ' coca colex', ' tomate', 'cafe', 1212, True, 1.86]\n",
    "#Lista de asistencia\n",
    "lista_asistencia = ['Jazmin', 'Pedro', 'Jose']\n",
    "\n",
    "#Forma de acceder a los elementos por el indice\n",
    "print(lista_asistencia[1], lista_super[0])\n",
    "print(lista_super[2])\n",
    "\n",
    "#Modificar un elemento de una lista\n",
    "lista_super[0] = 'papa frita'\n",
    "\n",
    "#Imprimir toda la lista\n",
    "print(lista_super)\n",
    "print(lista_asistencia)\n",
    "#anhadir un elemento a una lista\n",
    "lista_asistencia.append('Celeste')\n",
    "\n",
    "lista_olvidados = ['tutu','Edu']\n",
    "#Anhadir una lista en otra\n",
    "lista_asistencia.extend(lista_olvidados)\n",
    "print(lista_asistencia)\n",
    "\n",
    "#borrar elemento de una lista por indice\n",
    "lista_asistencia.pop(2)\n",
    "print(lista_asistencia)\n",
    "\n",
    "#borrar elemento de una lista por su contenido\n",
    "lista_asistencia.remove('Edu')\n",
    "print(lista_asistencia)\n",
    "\n",
    "#longitud de una lista\n",
    "longitud = len(lista_asistencia)\n",
    "print(longitud)"
   ]
  },
  {
   "cell_type": "markdown",
   "metadata": {},
   "source": [
    "Challenge \n",
    "Crear una lista de 5 elementos. Luego, seguir los siguientes pasos.\n",
    "    Agregar un elemento al final de la lista.\n",
    "    Modificar el segundo elemento\n",
    "    Eliminar el tercer elemento"
   ]
  },
  {
   "cell_type": "code",
   "execution_count": 50,
   "metadata": {},
   "outputs": [
    {
     "name": "stdout",
     "output_type": "stream",
     "text": [
      "['BMW', 'Mercedes-Benz', 'Audi', 'Ferrari', 'Lamborghini']\n",
      "['BMW', 'Mercedes-Benz', 'Audi', 'Ferrari', 'Lamborghini', 'Toyota']\n",
      "['BMW', 'Lexus', 'Audi', 'Ferrari', 'Lamborghini', 'Toyota']\n",
      "['BMW', 'Lexus', 'Ferrari', 'Lamborghini', 'Toyota']\n"
     ]
    }
   ],
   "source": [
    "marcas_autos = ['BMW', 'Mercedes-Benz', 'Audi', 'Ferrari', 'Lamborghini']\n",
    "print(marcas_autos)\n",
    "marcas_autos.append('Toyota')\n",
    "print(marcas_autos)\n",
    "marcas_autos[1] = 'Lexus'\n",
    "print(marcas_autos)\n",
    "marcas_autos.pop(2)\n",
    "print(marcas_autos)\n"
   ]
  },
  {
   "cell_type": "markdown",
   "metadata": {},
   "source": [
    "mi_lista = []\n",
    "print(\"Por favor, introduce elementos a la lista(presiona Enter para seguir))\n",
    "while True:\n",
    "    elemento = input(\"Elemento: \")\n",
    "    if elemento == \"\":\n",
    "        break\n",
    "    else:\n"
   ]
  },
  {
   "cell_type": "markdown",
   "metadata": {},
   "source": [
    "Bucles Iterativos for"
   ]
  },
  {
   "cell_type": "code",
   "execution_count": 52,
   "metadata": {},
   "outputs": [
    {
     "name": "stdout",
     "output_type": "stream",
     "text": [
      "0\n",
      "1\n",
      "2\n",
      "3\n",
      "4\n",
      "5\n"
     ]
    }
   ],
   "source": [
    "for contador in range(10):\n",
    "    resultado = (contador+1)*5\n",
    "    print(resultado)"
   ]
  },
  {
   "cell_type": "markdown",
   "metadata": {},
   "source": [
    "challenge - Escribir un programa que itere en un rango de 10 veces. Por cada iteracion multiplicar el iterador por un numero ingresado por el usuario e imprimir el resultado."
   ]
  },
  {
   "cell_type": "code",
   "execution_count": 73,
   "metadata": {},
   "outputs": [
    {
     "name": "stdout",
     "output_type": "stream",
     "text": [
      "El resultado es 1 x 6 = 6\n",
      "El resultado es 2 x 6 = 12\n",
      "El resultado es 3 x 6 = 18\n",
      "El resultado es 4 x 6 = 24\n",
      "El resultado es 5 x 6 = 30\n",
      "El resultado es 6 x 6 = 36\n",
      "El resultado es 7 x 6 = 42\n",
      "El resultado es 8 x 6 = 48\n",
      "El resultado es 9 x 6 = 54\n",
      "El resultado es 10 x 6 = 60\n"
     ]
    }
   ],
   "source": [
    "\n",
    "multiplicando = int(input('Ingrese un numero a multiplicar'))\n",
    "for i in range(1,11):\n",
    "    multiplicacion = i * multiplicando\n",
    "    print(f'El resultado es {i} x {multiplicando} = {multiplicacion}')"
   ]
  },
  {
   "cell_type": "code",
   "execution_count": 78,
   "metadata": {},
   "outputs": [
    {
     "name": "stdout",
     "output_type": "stream",
     "text": [
      "Fabricio\n",
      "Marcos\n",
      "Ara\n",
      "Lucero\n",
      "Fabricio\n",
      "Marcos\n",
      "Ara\n",
      "Lucero\n",
      "Fabricio\n",
      "Marcos\n",
      "Ara\n",
      "Lucero\n",
      "Fabricio\n",
      "Fabricio\n",
      "Ara\n",
      "Lucero\n",
      "Marcos\n",
      "Fabricio\n",
      "Ara\n",
      "Lucero\n",
      "Ara\n",
      "Fabricio\n",
      "Ara\n",
      "Lucero\n",
      "Lucero\n",
      "Fabricio\n",
      "Ara\n",
      "Lucero\n"
     ]
    }
   ],
   "source": [
    "lista_participantes = ['Fabricio', 'Marcos', 'Ara', 'Lucero']\n",
    "for i in range(4):\n",
    "    print(lista_participantes[i])\n",
    "\n",
    "for i in range(len(lista_participantes)):\n",
    "    print(lista_participantes[i])\n",
    "\n",
    "for valor in enumerate(lista_participantes):\n",
    "    print(valor[1])\n",
    "\n",
    "for participante in lista_participantes:\n",
    "    print(participante)\n",
    "    #Como omitir un elemento (Continue lo que hace es omitir ese valor, en este caso \"Marcos\" entonces en el bucle itera, omite \"Marcos\" y sigue al siguiente)\n",
    "    for participante in lista_participantes:\n",
    "        if participante =='Marcos':\n",
    "            continue\n",
    "        print(participante)"
   ]
  },
  {
   "cell_type": "markdown",
   "metadata": {},
   "source": [
    "Challenge - Recorrer los elementos de una lista de marcas e imprimir cada marca solamente si tiene 6 letras o mas."
   ]
  },
  {
   "cell_type": "code",
   "execution_count": 90,
   "metadata": {},
   "outputs": [
    {
     "name": "stdout",
     "output_type": "stream",
     "text": [
      "Samsung\n",
      "Panasonic\n",
      "Xiaomi\n"
     ]
    }
   ],
   "source": [
    "marcas_electronicas = ['Samsung', 'LG','Panasonic', 'Bosch','Xiaomi']\n",
    "for electronico in marcas_electronicas:\n",
    "    if len(electronico) >= 6:\n",
    "        print(electronico)"
   ]
  },
  {
   "cell_type": "code",
   "execution_count": 91,
   "metadata": {},
   "outputs": [
    {
     "name": "stdout",
     "output_type": "stream",
     "text": [
      "La fruta es manzana y su costo es 3000\n",
      "La fruta es limon y su costo es 8000\n",
      "La fruta es pera y su costo es 2500\n",
      "La fruta es pinha y su costo es 5000\n"
     ]
    }
   ],
   "source": [
    "lista_frutas = ['manzana', 'limon', 'pera', 'pinha']\n",
    "costo_frutas = [3000, 8000, 2500, 5000]\n",
    "\n",
    "for fruta, costo in zip(lista_frutas, costo_frutas):\n",
    "    print(f'La fruta es {fruta} y su costo es {costo}')"
   ]
  },
  {
   "cell_type": "code",
   "execution_count": 94,
   "metadata": {},
   "outputs": [
    {
     "name": "stdout",
     "output_type": "stream",
     "text": [
      "W\n",
      "i\n",
      "l\n",
      "l\n",
      "i\n",
      "a\n",
      "m\n",
      ",\n",
      " \n",
      "S\n",
      "h\n",
      "a\n",
      "k\n",
      "e\n",
      "a\n"
     ]
    }
   ],
   "source": [
    "nombre = 'William, Shakea'\n",
    "for letra in nombre:\n",
    "    print(letra)\n",
    "    "
   ]
  },
  {
   "cell_type": "markdown",
   "metadata": {},
   "source": [
    "Challenge - Solicitar al usuario que ingrese una frase. Imprimir un mensaje cada vez que se encuentre una letra \"o\"."
   ]
  },
  {
   "cell_type": "code",
   "execution_count": 111,
   "metadata": {},
   "outputs": [
    {
     "name": "stdout",
     "output_type": "stream",
     "text": [
      "Aqui se encontro una \"o\"\n",
      "Aqui se encontro una \"o\"\n",
      "Aqui se encontro una \"o\"\n"
     ]
    }
   ],
   "source": [
    "frase = input('Ingrese una frase')\n",
    "for letra in frase:\n",
    "    if letra == 'o':\n",
    "        print('Aqui se encontro una \"o\"')"
   ]
  },
  {
   "cell_type": "code",
   "execution_count": null,
   "metadata": {},
   "outputs": [],
   "source": [
    "frase = input('Ingrese una frase)\n",
    "\n",
    "for letra in frase:\n",
    "    if letra.lower() == 'o'\n",
    "    print('Soy una o')\n",
    "else:\n",
    "    print('No hay ninguna o')"
   ]
  }
 ],
 "metadata": {
  "kernelspec": {
   "display_name": "Python 3",
   "language": "python",
   "name": "python3"
  },
  "language_info": {
   "codemirror_mode": {
    "name": "ipython",
    "version": 3
   },
   "file_extension": ".py",
   "mimetype": "text/x-python",
   "name": "python",
   "nbconvert_exporter": "python",
   "pygments_lexer": "ipython3",
   "version": "3.11.6"
  }
 },
 "nbformat": 4,
 "nbformat_minor": 2
}
