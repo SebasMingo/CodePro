{
 "cells": [
  {
   "cell_type": "code",
   "execution_count": 1,
   "metadata": {},
   "outputs": [
    {
     "name": "stdout",
     "output_type": "stream",
     "text": [
      "Hola mi nombre es Nicolas y peso 85.0 kg\n",
      "Disfruta de tus milanesas\n"
     ]
    }
   ],
   "source": [
    "#variables\n",
    "nombre = 'Nicolas'\n",
    "edad = 29\n",
    "peso = float(input('Cargame tu peso'))\n",
    "soltero = False\n",
    "\n",
    "print(f'Hola mi nombre es {nombre} y peso {peso} kg')\n",
    "\n",
    "#Condicionales de peso\n",
    "if peso>90:\n",
    "    print('Amigo tenes que hacer un chiqui de dieta, deja las milas')\n",
    "else:\n",
    "    print('Disfruta de tus milanesas')"
   ]
  },
  {
   "cell_type": "code",
   "execution_count": 2,
   "metadata": {},
   "outputs": [
    {
     "name": "stdout",
     "output_type": "stream",
     "text": [
      "Te podes subir a los juegos de la categoria3\n"
     ]
    }
   ],
   "source": [
    "altura = float(input('Ingresa tu altura'))\n",
    "edad = int(input('Ingrese tu edad'))\n",
    "\n",
    "if edad<18:\n",
    "    print('Lo siento, sos menor elegi otro parque')\n",
    "else:\n",
    "    if altura<1.6:\n",
    "        print('Te podes subir a los juegos de la categoria1')\n",
    "    elif altura>1.6 and altura<1.8:\n",
    "        print('Te podes subir a los juegos de la categoria2')\n",
    "    else:\n",
    "        print('Te podes subir a los juegos de la categoria3')"
   ]
  },
  {
   "cell_type": "code",
   "execution_count": 6,
   "metadata": {},
   "outputs": [
    {
     "name": "stdout",
     "output_type": "stream",
     "text": [
      "Te podes subir a los juegos de la categoria3\n",
      "Te podes subir a los juegos de la categoria2\n",
      "Lo siento, sos menor elegi otro parque\n"
     ]
    }
   ],
   "source": [
    "def comprobar_edad(altura,edad):\n",
    "    #altura = float(input('Ingresa tu altura'))\n",
    "    #edad = int(input('Ingrese tu edad'))\n",
    "\n",
    "    if edad<18:\n",
    "        print('Lo siento, sos menor elegi otro parque')\n",
    "    else:\n",
    "        if altura<1.6:\n",
    "            print('Te podes subir a los juegos de la categoria1')\n",
    "        elif altura>1.6 and altura<1.8:\n",
    "            print('Te podes subir a los juegos de la categoria2')\n",
    "        else:\n",
    "            print('Te podes subir a los juegos de la categoria3')\n",
    "\n",
    "comprobar_edad(1.87,19) \n",
    "comprobar_edad(1.75,21) \n",
    "comprobar_edad(1.75,16) "
   ]
  },
  {
   "cell_type": "markdown",
   "metadata": {},
   "source": [
    "## Challenge 1 - Crea una funcion que imprima el contenido de la variable palabra."
   ]
  },
  {
   "cell_type": "code",
   "execution_count": 17,
   "metadata": {},
   "outputs": [
    {
     "name": "stdout",
     "output_type": "stream",
     "text": [
      "Correcto, la variable palabra contiene la palabra Sebastian Mingo\n"
     ]
    }
   ],
   "source": [
    "def contenido_palabra():\n",
    "    palabra_ingresada = input('Ingresa la palabra contenida en la variable palabra')\n",
    "    palabra = 'Sebastian Mingo'\n",
    "    \n",
    "    if palabra == palabra_ingresada:\n",
    "        print('Correcto, la variable palabra contiene la palabra Sebastian Mingo')\n",
    "    else:\n",
    "        print('La palabra que haz ingresado no es la correcta')\n",
    "\n",
    "contenido_palabra()\n",
    "    "
   ]
  },
  {
   "cell_type": "code",
   "execution_count": 18,
   "metadata": {},
   "outputs": [
    {
     "name": "stdout",
     "output_type": "stream",
     "text": [
      "Sebastian Mingo\n"
     ]
    }
   ],
   "source": [
    "#Otra solucion\n",
    "\n",
    "def funcion_palabra():\n",
    "    palabra = 'Sebastian Mingo'\n",
    "    print(palabra)\n",
    "\n",
    "funcion_palabra()"
   ]
  },
  {
   "cell_type": "code",
   "execution_count": 19,
   "metadata": {},
   "outputs": [
    {
     "name": "stdout",
     "output_type": "stream",
     "text": [
      "La suma de la edades de Jose y Tutu es 63.0\n"
     ]
    }
   ],
   "source": [
    "#Los parametros son variables que puedo utilizar dentro de\n",
    "#las funciones, y los argumentos los valores con los que le cargo.\n",
    "def sumar_edades(nombre1,nombre2):\n",
    "    edad1 = float(input('Ingrese un numero'))\n",
    "    edad2 = float(input('Ingrese un numero'))\n",
    "    suma_edades = edad1 + edad2\n",
    "    print(f'La suma de la edades de {nombre1} y {nombre2} es {suma_edades}')\n",
    "\n",
    "nombre = input('Cargame el nombre')\n",
    "sumar_edades('Jose','Tutu')"
   ]
  },
  {
   "cell_type": "markdown",
   "metadata": {},
   "source": [
    "Challenge 2\n",
    "Crear una funcion que reciba dos letras(parametros) y que verifique si son iguales:\n",
    "1. Si son iguales, imprimir \"Las letras son iguales\".\n",
    "2. De los contrario, imprimir \"Las letras son diferentes\"."
   ]
  },
  {
   "cell_type": "code",
   "execution_count": 28,
   "metadata": {},
   "outputs": [
    {
     "name": "stdout",
     "output_type": "stream",
     "text": [
      "Las letras a y a son iguales\n"
     ]
    }
   ],
   "source": [
    "def verificar_igualdad(letra1,letra2):\n",
    "    #letra1(str(input('Ingrese una letra')))\n",
    "    #letra2(str(input('Ingrese una letra')))\n",
    "    if letra1 == letra2:\n",
    "        print(f'Las letras {letra1} y {letra2} son iguales')\n",
    "    else:\n",
    "        print(f'Las letras {letra1} y {letra2} son diferentes')\n",
    "\n",
    "verificar_igualdad(\"a\",\"a\")\n",
    "    \n"
   ]
  },
  {
   "cell_type": "code",
   "execution_count": 29,
   "metadata": {},
   "outputs": [
    {
     "name": "stdout",
     "output_type": "stream",
     "text": [
      "8\n"
     ]
    }
   ],
   "source": [
    "#return lo que hace es retornar o convertir una variable que esta en un alcance local y pasa a ser de\n",
    "def sumar_numeros(n1,n2):\n",
    "    suma = n1 + n2\n",
    "    print(suma) \n",
    "    return suma\n",
    "\n",
    "resultado = sumar_numeros(3,5) + 6\n",
    "print(resultado)"
   ]
  },
  {
   "cell_type": "markdown",
   "metadata": {},
   "source": [
    "Challenge 3\n",
    "Crear una funcion que reciba dos parametros(una palabra y un numero), y que retorne True si el numero es igual a la cantidad de letras de la palabra. En caso contrario, que retorne False.\n",
    "\n",
    "Pista: cantidad de letras de una palabra en python"
   ]
  },
  {
   "cell_type": "code",
   "execution_count": 52,
   "metadata": {},
   "outputs": [
    {
     "data": {
      "text/plain": [
       "False"
      ]
     },
     "execution_count": 52,
     "metadata": {},
     "output_type": "execute_result"
    }
   ],
   "source": [
    "def misma_cantidad_de_letras (numero, palabra):\n",
    "    if numero == len(palabra):\n",
    "        return True \n",
    "    else:\n",
    "        return False\n",
    "\n",
    "misma_cantidad_de_letras(4, 'return')"
   ]
  },
  {
   "cell_type": "code",
   "execution_count": 57,
   "metadata": {},
   "outputs": [
    {
     "name": "stdout",
     "output_type": "stream",
     "text": [
      "Numero no coincide con cantidad de letras\n"
     ]
    }
   ],
   "source": [
    "#Solucion de Thiago \n",
    "def comprobar_palabra(palabra, numero):\n",
    "    if len(palabra) == numero:\n",
    "        return True\n",
    "    return False\n",
    "\n",
    "user_palabra = input('Inserte una palabra: ')\n",
    "user_numero = int(input('Inserte un numero: '))\n",
    "\n",
    "if comprobar_palabra(user_palabra, user_numero):\n",
    "    print('Numero coincide con la cantidad de letras')\n",
    "else:\n",
    "    print('Numero no coincide con cantidad de letras')"
   ]
  },
  {
   "cell_type": "code",
   "execution_count": 61,
   "metadata": {},
   "outputs": [
    {
     "name": "stdout",
     "output_type": "stream",
     "text": [
      "['A', 'u', 'r', 'e', 'l', 'i', 'a', 'n', 'o']\n"
     ]
    }
   ],
   "source": [
    "nombre = 'Aureliano'\n",
    "nombre_enlistado = list(nombre)\n",
    "\n",
    "print(nombre_enlistado)"
   ]
  },
  {
   "cell_type": "markdown",
   "metadata": {},
   "source": [
    "Challenge 5 -Pedir al usuario que ingrese 1 palabra, luego convertir esa palabra a una lista con sus caracteres con list(). Agregar esa lista de caracteres a una lista llamada palabras_ingresadas. Repetir el proceso 3 veces. Cada vez que se agregue una lista, imprimir la lista palabras_ingresadas."
   ]
  },
  {
   "cell_type": "code",
   "execution_count": 75,
   "metadata": {},
   "outputs": [
    {
     "name": "stdout",
     "output_type": "stream",
     "text": [
      "['u', 'n', 'o']\n",
      "['d', 'o', 's']\n",
      "['t', 'r', 'e', 's']\n"
     ]
    }
   ],
   "source": [
    "#ejercicio resuelto por mi(no esta bien)\n",
    "\n",
    "for palabras_ingresadas in range(3):\n",
    "    palabra_ingresada = input('Ingrese 1 palabra')\n",
    "    palabra_enlistada = list(palabra_ingresada)\n",
    "    palabras_ingresadas = []\n",
    "    palabras_ingresadas.extend(palabra_enlistada)\n",
    "\n",
    "    print(palabras_ingresadas)\n",
    "\n",
    "\n"
   ]
  },
  {
   "cell_type": "code",
   "execution_count": 80,
   "metadata": {},
   "outputs": [
    {
     "name": "stdout",
     "output_type": "stream",
     "text": [
      "[['u', 'n', 'o']]\n",
      "[['u', 'n', 'o'], ['d', 'o', 's']]\n",
      "[['u', 'n', 'o'], ['d', 'o', 's'], ['t', 'r', 'e', 's']]\n"
     ]
    }
   ],
   "source": [
    "#Pedir al usuario que ingrese 1 palabra\n",
    "#palabra = input('Ingrese una palabra')\n",
    "# convertir esa palabra a una lista\n",
    "#palabra_enlistada = list(palabra)\n",
    "# Agregar esa lista de caracteres a una nueva lista\n",
    "#nueva_lista.append(palabra_enlistada)\n",
    "#imprimir la lista\n",
    "#print(nueva_lista)\n",
    "\n",
    "nueva_lista = []\n",
    "#repertir el proceso 3 veces\n",
    "for contador in range(3):\n",
    "    #Pedir al usuario que ingrese 1 palabra\n",
    "    palabra = input('Ingrese una palabra')\n",
    "# convertir esa palabra a una lista\n",
    "    palabra_enlistada = list(palabra)\n",
    "# Agregar esa lista de caracteres a una nueva lista\n",
    "    nueva_lista.append(palabra_enlistada)\n",
    "#imprimir la lista\n",
    "    print(nueva_lista)\n",
    "\n"
   ]
  },
  {
   "cell_type": "code",
   "execution_count": null,
   "metadata": {},
   "outputs": [],
   "source": [
    "letra = 'o'\n",
    "palabra = 'perro'\n",
    "\n",
    "if letra in palabra:\n",
    "    print('La letra esta en la palabra')\n",
    "else:\n",
    "    print('La letra no esta en la palabra')\n"
   ]
  },
  {
   "cell_type": "markdown",
   "metadata": {},
   "source": [
    "Challenge 4 - Crear funcion que revise si una palabra contiene una letra. En caso de que la contenga, retornar la letra entre corchetes []. De lo contrario, retornar solo la letra."
   ]
  },
  {
   "cell_type": "code",
   "execution_count": 93,
   "metadata": {},
   "outputs": [
    {
     "data": {
      "text/plain": [
       "['r']"
      ]
     },
     "execution_count": 93,
     "metadata": {},
     "output_type": "execute_result"
    }
   ],
   "source": [
    "#Creamos la funcion a la cual llamamos revision_de_palabra\n",
    "def revision_de_palabra():\n",
    "    #definimos las variables letra a la cual le asignamos el valor de 'r'y la variable palabra a la cual \n",
    "    #le asignamos el valor de 'perro'\n",
    "    letra = 'r'\n",
    "    palabra = 'perro'\n",
    "    #Si la variable letra esta en la variable palabra entonces le decimos que retorne la variable letra entre corchetes\n",
    "    if letra in palabra:\n",
    "        return [letra]\n",
    "        #sino que retorne solo la variable letra\n",
    "    else: \n",
    "        return letra\n",
    "    \n",
    "\n",
    "#llamamos a la funcion revision_de_palabra\n",
    "revision_de_palabra()"
   ]
  },
  {
   "cell_type": "markdown",
   "metadata": {},
   "source": [
    "Intro del Wordle\n",
    "funcion verificadora"
   ]
  },
  {
   "cell_type": "markdown",
   "metadata": {},
   "source": [
    "Funcion verificadora\n",
    "Acercandonos \n",
    "\n",
    "Crear una lista vacia letras_verificadas para letras de la palabra luego de ser verificada \n",
    "Definir la cantidad de letras de la palabra a encontrar\n",
    "Si las letras existen en la palabra a encontrar y sus posiciones coinciden:\n",
    "encerrar corchetes '[] y agregar al resultado'\n",
    "si las letras exiten en la palabra a encontrar pero sus posiciones no coinciden: encerrar"
   ]
  },
  {
   "cell_type": "code",
   "execution_count": null,
   "metadata": {},
   "outputs": [],
   "source": [
    "def funcion_verificadora(palabra_a_encontrar, palabra_usuario):\n",
    "    #Definir la cantidad de letras de la palabra a encontrar\n",
    "    cantidad_letras_palabras = 5\n",
    "\n",
    "    #Crear una lista vacia letras_verificadas\n",
    "    letras_verificadas = []\n",
    "\n",
    "    #Recorrer una palabra_ingresada\n",
    "    for posicion in range(cantidad_letras_palabra):\n",
    "\n",
    "        letras_son_iguales = palabra_a_encontrar[posicion]==palabra_\n",
    "        letra_existente = palabra_usuario[posicion] in palabra_a_encontrar\n",
    "\n",
    "        #Si se da la condicion de que son iguales imprimir [letra]\n",
    "        if letras_son_iguales:\n",
    "            letras_verificadas.append(f'[{palabra_usuario[posicion]}]')\n",
    "            #Si se da la condicion de que existe imprimir(letra)\n",
    "        elif letra_existente:\n",
    "            letras_verificadas.append(f)"
   ]
  },
  {
   "cell_type": "code",
   "execution_count": null,
   "metadata": {},
   "outputs": [],
   "source": []
  },
  {
   "cell_type": "markdown",
   "metadata": {},
   "source": [
    "challenge 6 - dada la lista de ejemplo\n",
    "lista = [['h','o','l','i','s'],['h','e','l','l','o'],['h','a','l','l','o']]\n",
    "\n",
    "Crear una funcion que imprima una grilla(lista de listas), una linea por cada lista dentro de la lista principal.\n",
    "\n",
    "Ejemplo del resultado esperado:\n",
    "\n",
    "['h','o','l','i','s']\n",
    "['h','e','l','l','o']\n",
    "['h','a','l','l','o']"
   ]
  },
  {
   "cell_type": "code",
   "execution_count": 97,
   "metadata": {},
   "outputs": [
    {
     "name": "stdout",
     "output_type": "stream",
     "text": [
      "[['h', 'o', 'l', 'i', 's'], ['h', 'e', 'l', 'l', 'o'], ['h', 'a', 'l', 'l', 'o']]\n",
      "[['h', 'o', 'l', 'i', 's'], ['h', 'e', 'l', 'l', 'o'], ['h', 'a', 'l', 'l', 'o']]\n",
      "[['h', 'o', 'l', 'i', 's'], ['h', 'e', 'l', 'l', 'o'], ['h', 'a', 'l', 'l', 'o']]\n"
     ]
    }
   ],
   "source": [
    "\n",
    "\n",
    "\n",
    "def grilla():\n",
    "    for contador in range(3):\n",
    "        lista = [['h','o','l','i','s'],['h','e','l','l','o'],['h','a','l','l','o']]\n",
    "        palabras_ingresadas = []\n",
    "        palabras_ingresadas.extend(lista)\n",
    "        print(palabras_ingresadas)\n",
    "    \n",
    "grilla()\n",
    "    \n"
   ]
  },
  {
   "cell_type": "code",
   "execution_count": 108,
   "metadata": {},
   "outputs": [
    {
     "name": "stdout",
     "output_type": "stream",
     "text": [
      "['h', 'o', 'l', 'i', 's']\n",
      "['h', 'e', 'l', 'l', 'o']\n",
      "['h', 'a', 'l', 'l', 'o']\n"
     ]
    }
   ],
   "source": [
    "#Este es mi resolucion pero no entiendo bien\n",
    "\n",
    "#Definimos la funcion llamada grilla con el parametro llamado lista\n",
    "def grilla(lista):\n",
    "    for palabras in lista:\n",
    "        print(palabras)\n",
    "        lista_principal = [['h','o','l','i','s'],['h','e','l','l','o'],['h','a','l','l','o']]\n",
    "\n",
    "grilla(lista)"
   ]
  },
  {
   "cell_type": "code",
   "execution_count": 119,
   "metadata": {},
   "outputs": [
    {
     "name": "stdout",
     "output_type": "stream",
     "text": [
      "['h', 'o', 'l', 'i', 's']\n",
      "['h', 'o', 'l', 'i', 's']\n",
      "['h', 'o', 'l', 'i', 's']\n",
      "['h', 'e', 'l', 'l', 'o']\n",
      "['h', 'e', 'l', 'l', 'o']\n",
      "['h', 'e', 'l', 'l', 'o']\n",
      "['h', 'a', 'l', 'l', 'o']\n",
      "['h', 'a', 'l', 'l', 'o']\n",
      "['h', 'a', 'l', 'l', 'o']\n"
     ]
    }
   ],
   "source": [
    "#Solucion de fab \n",
    "lista_principal = [['h','o','l','i','s'],['h','e','l','l','o'],['h','a','l','l','o']]\n",
    "\n",
    "for i in range(len(lista)):\n",
    "    for j in lista:\n",
    "        print(end=\"\")\n",
    "        print(lista[i])"
   ]
  },
  {
   "cell_type": "code",
   "execution_count": 118,
   "metadata": {},
   "outputs": [
    {
     "name": "stdout",
     "output_type": "stream",
     "text": [
      "['h', 'o', 'l', 'i', 's']\n",
      "['h', 'e', 'l', 'l', 'o']\n",
      "['h', 'a', 'l', 'l', 'o']\n"
     ]
    }
   ],
   "source": [
    "#Solucion de Carlos \n",
    "def funcion_grilla():\n",
    "    lista = [['h','o','l','i','s'],['h','e','l','l','o'],['h','a','l','l','o']]\n",
    "    for elemento in lista:\n",
    "        print(elemento)\n",
    "\n",
    "funcion_grilla()"
   ]
  },
  {
   "cell_type": "code",
   "execution_count": null,
   "metadata": {},
   "outputs": [],
   "source": [
    "intentos = 3 \n",
    "palabra_secreta = 'papel'\n",
    "while intentos>0:\n",
    "    print(f'te quedan{intentos} intentos')\n",
    "    palabra = input('ingresa una palabra')\n",
    "    print(palabra)\n",
    "    if palabra_secreta != palabra:\n",
    "        intentos = intentos - 1\n",
    "    else:\n",
    "        print('Acertaste')\n",
    "    break\n",
    "\n",
    "print('Ya no me quedan intentos')"
   ]
  },
  {
   "cell_type": "markdown",
   "metadata": {},
   "source": [
    "# Crear una funcion que tome el parametro palabra\n",
    "\n",
    "def revisa_palabra():\n",
    "\n",
    "    # Pedir una palabra al usuario\n",
    "\n",
    "    palabra = input('Ingresa una palabra: ')\n",
    "\n",
    "    # Convertir la palabra a lowercase\n",
    "\n",
    "    palabra = palabra.lower()\n",
    "\n",
    "    # Pedir al usuario que ingrese una letra a revisar en la palabra\n",
    "\n",
    "    letra = input('Que letra quieres revisar en la palabra?')\n",
    "\n",
    "    # Convertir la letra a lowercase para evitar errores de case \n",
    "\n",
    "    letra = letra.lower()\n",
    "\n",
    "    # Desarmar la lista en sus caracteres (letras)\n",
    "\n",
    "    palabra_lista = list(palabra)\n",
    "\n",
    "    # Si la letra esta en la palabra, imprime entre corchetes\n",
    "\n",
    "    if letra in palabra_lista:\n",
    "\n",
    "        return (f'[{letra}]')\n",
    "\n",
    "    # Si la letra no esta en la palabra, imprime la letra sin corchetes\n",
    "\n",
    "    else:\n",
    "\n",
    "        return letra\n",
    "\n",
    "# Llamar la funcion dentro de una variable\n",
    "\n",
    "resultado = revisa_palabra()\n",
    "\n",
    "# Imprimir el resultado\n",
    "\n",
    "print(resultado)"
   ]
  },
  {
   "cell_type": "code",
   "execution_count": 123,
   "metadata": {},
   "outputs": [
    {
     "name": "stdout",
     "output_type": "stream",
     "text": [
      "['[v]', '[i]', '[r]', '[u]', '[s]']\n"
     ]
    }
   ],
   "source": [
    "def funcion_verficadora(palabra_a_encontrar, palabra_usuario):\n",
    "    # cantidad de letas a encontrar\n",
    "    cantidad_letras_palabras = 5\n",
    "\n",
    "    # crear una lista vacia 'letras verificadas'\n",
    "    letras_verificadas = []\n",
    "\n",
    "    # recorrer una palabra ingresada por el usuario\n",
    "    for posicion in range(cantidad_letras_palabras):\n",
    "\n",
    "        letras_son_iguales = palabra_a_encontrar[posicion] == palabra_usuario[posicion]\n",
    "        letra_existente = palabra_usuario[posicion] in palabra_a_encontrar[posicion]\n",
    "\n",
    "        if letras_son_iguales:\n",
    "            letras_verificadas.append(f'[{palabra_usuario[posicion]}]')\n",
    "\n",
    "        elif letra_existente:\n",
    "            letras_verificadas.append(f'({palabra_usuario[posicion]})')\n",
    "\n",
    "        else: \n",
    "            letras_verificadas.append(palabra_usuario[posicion])\n",
    "\n",
    "    return letras_verificadas\n",
    "\n",
    "palabra_secreta = 'virus'\n",
    "palabra_usuario_arg = input('ingrese la palabra')\n",
    "resultado = funcion_verficadora(palabra_secreta, palabra_usuario_arg)\n",
    "print(resultado)"
   ]
  },
  {
   "cell_type": "markdown",
   "metadata": {},
   "source": [
    "Challenge haciendo wordle"
   ]
  },
  {
   "cell_type": "code",
   "execution_count": 128,
   "metadata": {},
   "outputs": [
    {
     "ename": "TypeError",
     "evalue": "'builtin_function_or_method' object is not iterable",
     "output_type": "error",
     "traceback": [
      "\u001b[0;31m---------------------------------------------------------------------------\u001b[0m",
      "\u001b[0;31mTypeError\u001b[0m                                 Traceback (most recent call last)",
      "\u001b[1;32m/home/penguin/Escritorio/Bootcamp/dia3.ipynb Cell 34\u001b[0m line \u001b[0;36m2\n\u001b[1;32m     <a href='vscode-notebook-cell:/home/penguin/Escritorio/Bootcamp/dia3.ipynb#Y101sZmlsZQ%3D%3D?line=16'>17</a>\u001b[0m         \u001b[39mreturn\u001b[39;00m letra\n\u001b[1;32m     <a href='vscode-notebook-cell:/home/penguin/Escritorio/Bootcamp/dia3.ipynb#Y101sZmlsZQ%3D%3D?line=19'>20</a>\u001b[0m \u001b[39m#llamamos a la funcion dentro de una variable\u001b[39;00m\n\u001b[0;32m---> <a href='vscode-notebook-cell:/home/penguin/Escritorio/Bootcamp/dia3.ipynb#Y101sZmlsZQ%3D%3D?line=20'>21</a>\u001b[0m resultado \u001b[39m=\u001b[39m revisar_palabra()\n\u001b[1;32m     <a href='vscode-notebook-cell:/home/penguin/Escritorio/Bootcamp/dia3.ipynb#Y101sZmlsZQ%3D%3D?line=22'>23</a>\u001b[0m \u001b[39m#Imprimir el resultado\u001b[39;00m\n\u001b[1;32m     <a href='vscode-notebook-cell:/home/penguin/Escritorio/Bootcamp/dia3.ipynb#Y101sZmlsZQ%3D%3D?line=23'>24</a>\u001b[0m \u001b[39mprint\u001b[39m(resultado)\n",
      "\u001b[1;32m/home/penguin/Escritorio/Bootcamp/dia3.ipynb Cell 34\u001b[0m line \u001b[0;36m1\n\u001b[1;32m      <a href='vscode-notebook-cell:/home/penguin/Escritorio/Bootcamp/dia3.ipynb#Y101sZmlsZQ%3D%3D?line=8'>9</a>\u001b[0m letra_ingresada \u001b[39m=\u001b[39m letra_ingresada\u001b[39m.\u001b[39mlower\n\u001b[1;32m     <a href='vscode-notebook-cell:/home/penguin/Escritorio/Bootcamp/dia3.ipynb#Y101sZmlsZQ%3D%3D?line=9'>10</a>\u001b[0m \u001b[39m#Desarmamos la lista en sus caracteres(sus caracteres son letras)\u001b[39;00m\n\u001b[0;32m---> <a href='vscode-notebook-cell:/home/penguin/Escritorio/Bootcamp/dia3.ipynb#Y101sZmlsZQ%3D%3D?line=10'>11</a>\u001b[0m palabra_ingresada \u001b[39m=\u001b[39m \u001b[39mlist\u001b[39;49m(palabra_ingresada)\n\u001b[1;32m     <a href='vscode-notebook-cell:/home/penguin/Escritorio/Bootcamp/dia3.ipynb#Y101sZmlsZQ%3D%3D?line=11'>12</a>\u001b[0m \u001b[39m#si la letra esta en la palabra imprime entre corchetes\u001b[39;00m\n\u001b[1;32m     <a href='vscode-notebook-cell:/home/penguin/Escritorio/Bootcamp/dia3.ipynb#Y101sZmlsZQ%3D%3D?line=12'>13</a>\u001b[0m \u001b[39mif\u001b[39;00m letra_ingresada \u001b[39min\u001b[39;00m palabra_ingresada:\n",
      "\u001b[0;31mTypeError\u001b[0m: 'builtin_function_or_method' object is not iterable"
     ]
    }
   ],
   "source": [
    "def revisar_palabra():\n",
    "    #Pedimos al usuario que ingrese una palabra\n",
    "    palabra_ingresada = input('Ingrese una palabra')\n",
    "    #Convertimos la palabra ingresada en lower case para evitar errores\n",
    "    palabra_ingresada = palabra_ingresada.lower\n",
    "    #Pedimos al usuario que ingrese una palabra\n",
    "    letra_ingresada = input('Que letra quieres verificar?')\n",
    "    #Convertimos la letra ingresda en lower case para evitar errores\n",
    "    letra_ingresada = letra_ingresada.lower\n",
    "    #Desarmamos la lista en sus caracteres(sus caracteres son letras)\n",
    "    palabra_ingresada = list(palabra_ingresada)\n",
    "    #si la letra esta en la palabra imprime entre corchetes\n",
    "    if letra_ingresada in palabra_ingresada:\n",
    "        return (f'[{letra}]')\n",
    "    #si la letra no esta en la palabra imprime entre parentesis\n",
    "    else:\n",
    "        return letra\n",
    "\n",
    "\n",
    "#llamamos a la funcion dentro de una variable\n",
    "resultado = revisar_palabra()\n",
    "\n",
    "#Imprimir el resultado\n",
    "print(resultado)\n",
    "\n",
    "\n"
   ]
  }
 ],
 "metadata": {
  "kernelspec": {
   "display_name": "Python 3",
   "language": "python",
   "name": "python3"
  },
  "language_info": {
   "codemirror_mode": {
    "name": "ipython",
    "version": 3
   },
   "file_extension": ".py",
   "mimetype": "text/x-python",
   "name": "python",
   "nbconvert_exporter": "python",
   "pygments_lexer": "ipython3",
   "version": "3.11.6"
  }
 },
 "nbformat": 4,
 "nbformat_minor": 2
}
