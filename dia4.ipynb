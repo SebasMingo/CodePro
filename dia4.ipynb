{
 "cells": [
  {
   "cell_type": "code",
   "execution_count": null,
   "metadata": {},
   "outputs": [],
   "source": [
    "#variables y tipos de datos asociados\n",
    "led_rojo = True\n",
    "led_verde = 1\n",
    "led_amarillo = 'Si'\n",
    "\n",
    "#Condicionales\n",
    "if led_rojo == True:\n",
    "    print('El led rojo esta prendido')\n",
    "else:\n",
    "    print('El led rojo esta apagado')\n",
    "\n",
    "for i in range(4):\n",
    "    print('Bienvenidos al taller de Iot')\n",
    "\n",
    "while contador<3:\n",
    "    print('Bienvenidos al taller de IoT')\n",
    "\n",
    "def verificar_led():\n",
    "    if led_rojo == True:\n",
    "        print('El led rojo esta prendido')\n",
    "    else:\n",
    "        print('El led rojo esta apagago')\n",
    "\n",
    "#El append es para elemento\n",
    "#El punto pop elimina por indice y remove por elemento\n",
    "        \n",
    "listas_fruta = ['bana', ' manzana', 'pera']\n",
    "listas_frutas.append('kiwi')\n",
    "listas_frutas.pop(2)\n",
    "listas_frutas.remove('kiwi')\n"
   ]
  }
 ],
 "metadata": {
  "language_info": {
   "name": "python"
  }
 },
 "nbformat": 4,
 "nbformat_minor": 2
}
