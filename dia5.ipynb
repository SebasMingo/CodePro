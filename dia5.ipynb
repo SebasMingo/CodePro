{
 "cells": [
  {
   "cell_type": "code",
   "execution_count": null,
   "metadata": {},
   "outputs": [],
   "source": [
    "#Programacion Orientada a Objetos(POO)"
   ]
  },
  {
   "cell_type": "code",
   "execution_count": 2,
   "metadata": {},
   "outputs": [
    {
     "name": "stdout",
     "output_type": "stream",
     "text": [
      "1\n",
      "El humano1 tiene 2 ojos\n"
     ]
    }
   ],
   "source": [
    "class Humano:\n",
    "    #Caracteristicas generales(aributos de clase)\n",
    "    capacidad_respirar = True \n",
    "    corazon = 1\n",
    "    ojos = 2\n",
    "    dedos = True\n",
    "    cerebro = True\n",
    "    \n",
    "    #Caracteristicas particulares (atributos de instancia)\n",
    "    def __init__(self, estatura, nombre, nacionalidad, genero):\n",
    "        self.estatura = estatura\n",
    "        self.nombre = nombre\n",
    "        self.nacionalidad = nacionalidad\n",
    "        self.genero = genero\n",
    "\n",
    "humano1 = Humano(1.87,'Tutu', 'Paraguaya', 'Masculino') #Creamos un objeto, instanciamos\n",
    "humano2 = Humano(1.88, 'Pedro','Brasilero','M')\n",
    "humano3 = Humano(1.71,'Ana', 'Argentina','F')\n",
    "\n",
    "print(humano1.corazon)\n",
    "print(f'El humano1 tiene {humano1.ojos} ojos')\n",
    "print(humano2.nombre)\n",
    "print(humano3.nacionalidad)\n",
    "print(humano3.ojos)"
   ]
  },
  {
   "cell_type": "markdown",
   "metadata": {},
   "source": [
    "Challenge\n",
    "Crear una clase animales que tenga atributos de clase y de instancia.\n",
    "\n",
    "Atributos de clase: especie.\n",
    "Atributos de instancia: nombre y color. luego, crear nuevos objetos a partir de los animales en una frase. ejemplo: \"Me llamo {nombre} y soy un ave de color {color}\"."
   ]
  },
  {
   "cell_type": "code",
   "execution_count": 7,
   "metadata": {},
   "outputs": [
    {
     "name": "stdout",
     "output_type": "stream",
     "text": [
      "Hola soy un toro, mi nombre es Pablo y soy de color Blanco \n",
      "Hola soy un toro, mi nombre es Tito y soy de color Blanco y Negro\n"
     ]
    }
   ],
   "source": [
    "#Creamos la clase llamada animal\n",
    "class animal:\n",
    "    especie = 'toro' #Atributo de clase\n",
    "    \n",
    "    def __init__(self,nombre,color):\n",
    "        self.nombre = nombre #Atributo de instancia\n",
    "        self.color = color #Atributo de instancia \n",
    "\n",
    "#Creamos las instancias de la clase animal, \n",
    "#especificamente la primera instancia creada es animal1 y la segunda instancia creada es animal2\n",
    "#nombre y color son los atributos de instancia de la clase animal\n",
    "\n",
    "animal1 = animal('Pablo', 'Blanco')\n",
    "animal2 = animal('Tito', 'Blanco y Negro')\n",
    "\n",
    "#Imprimimos los atributos de la instancia de la clase anima1\n",
    "print(f'Hola soy un {animal1.especie}, mi nombre es {animal1.nombre} y soy de color {animal1.color} ')\n",
    "#Imprimimos los atributos de anima12\n",
    "print(f'Hola soy un {animal2.especie}, mi nombre es {animal2.nombre} y soy de color {animal2.color}')"
   ]
  },
  {
   "cell_type": "markdown",
   "metadata": {},
   "source": []
  },
  {
   "cell_type": "markdown",
   "metadata": {},
   "source": [
    "-__init__\n",
    "El método __init__ en Python es un método especial que se llama automáticamente cuando se crea una nueva instancia de una clase. Su propósito principal es inicializar los atributos de la instancia con valores específicos.\n",
    "\n",
    "Aquí hay algunos puntos importantes sobre __init__:\n",
    "\n",
    "    Inicialización de atributos: Dentro de __init__, puedes asignar valores a los atributos de la instancia utilizando self. Esto te permite establecer el estado inicial de cada instancia.\n",
    "\n",
    "    Parámetros personalizables: __init__ puede aceptar parámetros que permiten inicializar los atributos de la instancia con valores específicos proporcionados al crear la instancia.\n",
    "\n",
    "    Llamada automática: No necesitas llamar explícitamente a __init__ cuando creas una instancia de la clase. Se llama automáticamente por Python cuando se crea una nueva instancia.\n",
    "\n",
    "    Constructor: __init__ se considera el \"constructor\" de la clase en Python. Es donde se lleva a cabo la inicialización inicial de una instancia."
   ]
  },
  {
   "cell_type": "markdown",
   "metadata": {},
   "source": [
    "Diferencias entre listas, tuplas y clases \n",
    "\n",
    "En Python, las listas, las tuplas y las clases (objetos) son estructuras de datos diferentes que se utilizan para almacenar y manipular información de distintas maneras. Aquí te explico las diferencias principales:\n",
    "\n",
    "1. **Lista (List)**:\n",
    "   - Es una estructura de datos mutable, lo que significa que puede cambiar después de su creación.\n",
    "   - Se define utilizando corchetes `[]`.\n",
    "   - Puede contener elementos de diferentes tipos de datos, como números, cadenas, otras listas, etc.\n",
    "   - Se pueden agregar, eliminar y modificar elementos después de la creación.\n",
    "   - Se accede a los elementos mediante su índice, que comienza desde 0.\n",
    "   - Ejemplo:\n",
    "     ```python\n",
    "     lista = [1, 2, 3, \"cuatro\"]\n",
    "     lista.append(5)  # Agrega 5 al final de la lista\n",
    "     ```\n",
    "\n",
    "2. **Tupla (Tuple)**:\n",
    "   - Es una estructura de datos inmutable, lo que significa que no se puede cambiar después de su creación.\n",
    "   - Se define utilizando paréntesis `()`.\n",
    "   - Puede contener elementos de diferentes tipos de datos, al igual que las listas.\n",
    "   - No se pueden agregar, eliminar ni modificar elementos después de la creación.\n",
    "   - Se accede a los elementos mediante su índice, al igual que en las listas.\n",
    "   - Ejemplo:\n",
    "     ```python\n",
    "     tupla = (1, 2, 3, \"cuatro\")\n",
    "     ```\n",
    "\n",
    "3. **Clase (Objeto)**:\n",
    "   - Es una estructura que define un tipo de datos personalizado en Python.\n",
    "   - Se define utilizando la palabra clave `class`.\n",
    "   - Permite definir atributos (variables) y métodos (funciones) que operan en esos atributos.\n",
    "   - Se pueden crear múltiples instancias (objetos) de una clase.\n",
    "   - Proporciona la capacidad de encapsulación y abstracción de datos.\n",
    "   - Ejemplo:\n",
    "     ```python\n",
    "     class Persona:\n",
    "         def __init__(self, nombre, edad):\n",
    "             self.nombre = nombre\n",
    "             self.edad = edad\n",
    "     \n",
    "         def imprimir_informacion(self):\n",
    "             print(\"Nombre:\", self.nombre)\n",
    "             print(\"Edad:\", self.edad)\n",
    "     \n",
    "     persona1 = Persona(\"Juan\", 30)\n",
    "     persona1.imprimir_informacion()\n",
    "     ```\n",
    "\n",
    "En resumen, las listas y las tuplas son estructuras de datos predefinidas en Python, mientras que una clase (objeto) es una estructura de datos personalizable que puede definirse para adaptarse a las necesidades específicas del problema que se esté resolviendo."
   ]
  },
  {
   "cell_type": "code",
   "execution_count": 11,
   "metadata": {},
   "outputs": [
    {
     "name": "stdout",
     "output_type": "stream",
     "text": [
      "Yo puedo volar 23 kms\n",
      "Yo puedo correr a 800 m/s\n"
     ]
    }
   ],
   "source": [
    "#Metodos: Son funcionalidades que puede tener una clase\n",
    "\n",
    "class Superheroe:\n",
    "    #Metodos constructor, define caracteristicas particulares\n",
    "    def __init__(self, traje, nombre, origen):\n",
    "        self.traje = traje\n",
    "        self.nombre = nombre\n",
    "        self.origen = origen\n",
    "\n",
    "    def volar(self,km):\n",
    "        print(f'Yo puedo volar {km} kms')\n",
    "\n",
    "    def supervelocidad (self, vel):\n",
    "        print(f'Yo puedo correr a {vel} m/s')\n",
    "\n",
    "\n",
    "superman = Superheroe('Azul y rojo', 'Clark Kin', 'China')\n",
    "batman = Superheroe('Negro','Bruno Diez', 'Luque')\n",
    "\n",
    "superman.volar(23)\n",
    "superman.supervelocidad(800)"
   ]
  },
  {
   "cell_type": "markdown",
   "metadata": {},
   "source": [
    "## Challenge \n",
    "Crear dos metodos para nuestro animal y ejecutar, debe ser algo especifico de ese animal.\n",
    "\n",
    "Ejemplo:\"Cuando hablo, digo X\". Ejemplo: \"Cuando me muevo, hago X\"."
   ]
  },
  {
   "cell_type": "code",
   "execution_count": 22,
   "metadata": {},
   "outputs": [
    {
     "name": "stdout",
     "output_type": "stream",
     "text": [
      "Soy un ave, especificamente soy un aguila que puede puede volar hasta una altura de 20 km, sobre el nivel del mar.\n",
      "Soy un ave, especificamente soy un condor que puede comer 3 kg de comida al dia.\n"
     ]
    }
   ],
   "source": [
    "#Creamos la clase animal\n",
    "class animal:\n",
    "    #definimos los atributos de instancia especie y color\n",
    "    def __init__(self, especie, color):\n",
    "        self.especie = especie\n",
    "        self.color = color\n",
    "    #Definimos el primer metodo que sera volar\n",
    "    def volar(self,km):\n",
    "        print(f'Soy un ave, especificamente soy un {animal1.especie} que puede puede volar hasta una altura de {km} km, sobre el nivel del mar.')\n",
    "    #Definimos el segundo metodo que sera comer\n",
    "    def comer(self,kg):\n",
    "        print(f'Soy un ave, especificamente soy un {animal2.especie} que puede comer {kg} kg de comida al dia.')\n",
    "\n",
    "#Creamos las instancias de clase animal, a la cual llamaremos animal1 y animal2\n",
    "    \n",
    "animal1 = animal('aguila','blanco')\n",
    "animal2 = animal('condor', 'marron')\n",
    "\n",
    "#Cuando llamas al método volar() en la instancia animal1 con el argumento 20 (animal1.volar(20)), \n",
    "#estamos invocando el método volar() definido dentro de la clase animal. \n",
    "#Este método toma un argumento km, que representa la altura en kilómetros a la que el animal puede volar.\n",
    "\n",
    "animal1.volar(20)\n",
    "#Cuando llamamos al metodo comer() en la instancia animal2 con el argumento 3(animal2.comer(3)),\n",
    "#estamos invocando el metodo comer() definido dentro de la clase animal.\n",
    "#Este metodo toma un argumento kg, que representa la altura en kilometros a la que el animal puede comer.\n",
    "animal2.comer(3)\n",
    "\n",
    "        \n",
    "    "
   ]
  },
  {
   "cell_type": "code",
   "execution_count": 24,
   "metadata": {},
   "outputs": [
    {
     "name": "stdout",
     "output_type": "stream",
     "text": [
      "Cuando hablo digo Guau, guau\n",
      "Cuando hablo digo Miau\n"
     ]
    }
   ],
   "source": [
    "#Solucion 1 del profesor\n",
    "class Animal:\n",
    "\n",
    "    def hablar(self, sonido):\n",
    "        print(f'Cuando hablo digo {sonido}')\n",
    "    \n",
    "    def mover(self,accion):\n",
    "        print(f'Cuando me muevo hago{accion}')\n",
    "\n",
    "perro = Animal()\n",
    "gato = Animal()\n",
    "\n",
    "perro.hablar('Guau, guau')\n",
    "gato.hablar('Miau')"
   ]
  },
  {
   "cell_type": "code",
   "execution_count": null,
   "metadata": {},
   "outputs": [],
   "source": [
    "#Solucion 2 del profesor(falta)\n",
    "class Animal:\n",
    "\n",
    "    def hablar(self, sonido):\n",
    "        print(f'Cuando hablo digo {sonido}')\n",
    "    \n",
    "    def __init__\n",
    "    \n",
    "    def presentarse(self):\n",
    "        print(f'Yo me llamo {self.nombre} y digo {self.sonido}')\n",
    "    \n",
    "    def mover(self,accion):\n",
    "        print(f'Cuando me muevo hago{accion}')\n",
    "\n",
    "perro = Animal('Rompe','Guau')\n",
    "gato = Animal('Gatfield','Miauu')\n",
    "\n",
    "perro.presentarse()\n",
    "\n",
    "perro.mover(gatea)\n",
    "gato.presentarse()"
   ]
  },
  {
   "cell_type": "code",
   "execution_count": null,
   "metadata": {},
   "outputs": [],
   "source": [
    "# Herencia de clases :\n",
    "# Que pasa de padre a hijo\n",
    "# Pasar algo\n",
    "# Generaciones\n",
    "#no esta completo\n",
    "class Padre:\n",
    "    #Atributo de clase\n",
    "    nacionalidad = 'Paraguaya'\n",
    "    #Atributo de instancia\n",
    "    def __init__(self, nombre, apellido, patrimonio):\n",
    "        self.nombre = nombre\n",
    "        self.apellido = apellido\n",
    "        self.patrimonio = patrimonio\n",
    "    \n",
    "    def presentarse(self):\n",
    "        print('Hola soy fulano, mucho gusto')\n",
    "\n",
    "class Hijo(Padre):\n",
    "    \n",
    "    def __init__(self, nombre, apellido, patrimonio, color_ojo):\n",
    "        super().__init__(nombre, apellido, patrimonio)\n",
    "\n",
    "#Objetos\n",
    "padre1 = Padre('Jose','Perez', 100000)\n",
    "padre2 = Padre('Juan','Perez', 10000000)"
   ]
  },
  {
   "cell_type": "code",
   "execution_count": 26,
   "metadata": {},
   "outputs": [
    {
     "name": "stdout",
     "output_type": "stream",
     "text": [
      "Buenos dias, soy un reptil de color Negro y hago guaauu y hago \n",
      "Buenos dias, soy un reptil de color amarillo y hago tssss y hago \n",
      "Estoy arrastrandome\n"
     ]
    }
   ],
   "source": [
    "class Reptil:\n",
    "    tipo = 'Reptil'\n",
    "\n",
    "    def __init__(self,color, sonido):\n",
    "        self.color = color\n",
    "        self.sonido = sonido\n",
    "\n",
    "    def presentarse(self):\n",
    "        print(f'Buenos dias, soy un reptil de color {self.color} y hago {self.sonido} y hago ')\n",
    "\n",
    "class Serpiente(Reptil):\n",
    "    veneno = 10 \n",
    "\n",
    "    def arrastrarse (self):\n",
    "        print('Estoy arrastrandome')\n",
    "\n",
    "class Dragon(Reptil):\n",
    "    garras = 4\n",
    "\n",
    "    def escupir_fuego(self):\n",
    "        print('Estoy escupiendo fuego')\n",
    "\n",
    "mi_serpiente = Serpiente('amarillo','tssss')\n",
    "mi_piton = Serpiente('Azul', 'Yo programo')\n",
    "mi_lagarto = Reptil('Negro','guaauu')\n",
    "\n",
    "mi_lagarto.presentarse()\n",
    "mi_serpiente.presentarse()\n",
    "mi_piton.arrastrarse()\n",
    "#mi_lagarto.arrastrarse()"
   ]
  },
  {
   "cell_type": "markdown",
   "metadata": {},
   "source": [
    "## Challenge\n",
    "\n",
    "Definir una clase madre que herede a sus clases hijas dos atributos de instancia. Mostrar ambos atributos en pantalla desde los objetos de las clases hijas.\n",
    "\n",
    "Observacion: Editar las clases hijas para que no se inicialicen."
   ]
  },
  {
   "cell_type": "code",
   "execution_count": 31,
   "metadata": {},
   "outputs": [
    {
     "name": "stdout",
     "output_type": "stream",
     "text": [
      "Hola mi Nombre es Maria, mido 1.55 y tengo 15 años\n",
      "Hola mi Nombre es Ana, mido 1.6 y tengo 13 años\n"
     ]
    }
   ],
   "source": [
    "class Madre:\n",
    "    tipo = 'mama'\n",
    "    def __init__ (self, nombre, estatura, edad):\n",
    "        self.nombre = nombre\n",
    "        self.estatura = estatura\n",
    "        self.edad = edad\n",
    "\n",
    "    def presentarse(self):\n",
    "            print(f'Hola mi Nombre es {self.nombre}, mido {self.estatura} y tengo {self.edad} años')\n",
    "\n",
    "class hija1(Madre):\n",
    "    Peso = 60\n",
    "    def caminar(self):\n",
    "        print('Estoy caminando')\n",
    "\n",
    "class hija2(Madre):\n",
    "    def bailar(self):\n",
    "        print('Estoy bailando')\n",
    "\n",
    "hija_Maria = hija1('Maria', 1.55, 15)\n",
    "hija_Ana = hija2('Ana', 1.60, 13)\n",
    "\n",
    "hija_Maria.presentarse()\n",
    "hija_Ana.presentarse()\n"
   ]
  },
  {
   "cell_type": "code",
   "execution_count": null,
   "metadata": {},
   "outputs": [],
   "source": [
    "class Mama_Marge:\n",
    "    tipo = 'mama'\n",
    "    def __init__(self,nombre,color, edad,estatura):\n",
    "        self.nombre = nombre\n",
    "        self.color = color\n",
    "        self.edad = edad\n",
    "        self.estatura = estatura\n",
    "\n",
    "    def presentarse(self):\n",
    "        print(f'Hola mi nombre es {self.nombre}, soy de color {self.color}, tengo {self.edad} años y mido {estatura}')\n",
    "    \n",
    "class hija_Lisa:\n",
    "    Peso = 40\n",
    "    def ejecutar(self):\n",
    "        print('Ejecuto el saxofon')\n",
    "\n",
    "#falta terminar"
   ]
  },
  {
   "cell_type": "markdown",
   "metadata": {},
   "source": [
    "#Challenge \n",
    "Crear dos personajes de una historia que se representen a traves de clases. Ejemplo: Un heroe y un villano. Cada personaje debe tener poderes o acciones diferentes. Y deben presentarse en una frase.\n",
    "\n",
    "Ejemplo: Yo me llamo pepito y tengo super fuerza Ejemplo: Yo me llamo juanito y puedo volar\n"
   ]
  },
  {
   "cell_type": "code",
   "execution_count": 38,
   "metadata": {},
   "outputs": [
    {
     "name": "stdout",
     "output_type": "stream",
     "text": [
      "Hola mi nombre es Superman y mi superpoder es Volar, tirar rayos laser por los ojos, supervelocidad, etc\n",
      "Hola mi nombre es Flash Malo y mi superpoder es supervelocidad\n"
     ]
    }
   ],
   "source": [
    "class personaje_ficticio:\n",
    "    def __init__(self,nombre,superpoder, ):\n",
    "        self.nombre = nombre\n",
    "        self.superpoder = superpoder\n",
    "    def presentarse(self):\n",
    "        print(f'Hola mi nombre es {self.nombre} y mi superpoder es {self.superpoder}')\n",
    "\n",
    "class heroe(personaje_ficticio):\n",
    "    def volar():\n",
    "        print('Puedo volar')\n",
    "\n",
    "class villano(personaje_ficticio):\n",
    "    def supervelocidad():\n",
    "        print('Tengo supervelocidad')\n",
    "\n",
    "superman = heroe('Superman', \"Volar, tirar rayos laser por los ojos, supervelocidad, etc\")\n",
    "flash_malo = villano('Flash Malo', 'supervelocidad') \n",
    "\n",
    "superman.presentarse()\n",
    "flash_malo.presentarse()\n",
    "\n",
    "        "
   ]
  },
  {
   "cell_type": "code",
   "execution_count": 44,
   "metadata": {},
   "outputs": [
    {
     "name": "stdout",
     "output_type": "stream",
     "text": [
      "Hola me llamo sonrisas y mi traje es Payaso\n",
      "Yo soy muy muy malo, pq duermo a las 00:00 y digo muchas grocerias como Recorcholis \n"
     ]
    }
   ],
   "source": [
    "#ejericio hecho por el profesor\n",
    "class heroe:\n",
    "    def __init__(self, nombre, traje):\n",
    "        self.nombre = nombre\n",
    "        self.traje = traje\n",
    "    \n",
    "    def presentarse(self):\n",
    "        print(f'Hola me llamo{self.nombre} y mi traje es {self.traje}')\n",
    "    def volar(self, vel):\n",
    "        print(f'Puedo volar a {vel} velocidad')\n",
    "\n",
    "class heroe:\n",
    "    def __init__(self, nombre, traje):\n",
    "        self.nombre = nombre\n",
    "        self.traje = traje\n",
    "    \n",
    "    def presentarse(self):\n",
    "        print(f'Hola me llamo{self.nombre} y mi traje es {self.traje}')\n",
    "    def volar(self, vel):\n",
    "        print(f'Puedo volar a {vel} velocidad')\n",
    "class villano:\n",
    "    def __init__(self, nombre, traje):\n",
    "        self.nombre = nombre\n",
    "        self.traje = traje\n",
    "    \n",
    "    def presentarse(self):\n",
    "        print(f'Hola me llamo {self.nombre} y mi traje es {self.traje}')\n",
    "    def mal(self, hora, grocerias):\n",
    "        print(f'Yo soy muy muy malo, pq duermo a las {hora} y digo muchas grocerias como {grocerias} ')\n",
    "\n",
    "batman = heroe('Bruno','Gotico')\n",
    "yoker = villano('sonrisas','Payaso')\n",
    "pinguin = villano('Tutu','Lacapa')\n",
    "\n",
    "yoker.presentarse()\n",
    "yoker.mal('00:00','Recorcholis')"
   ]
  },
  {
   "cell_type": "markdown",
   "metadata": {},
   "source": [
    "## Diccionarios"
   ]
  },
  {
   "cell_type": "code",
   "execution_count": 49,
   "metadata": {},
   "outputs": [
    {
     "name": "stdout",
     "output_type": "stream",
     "text": [
      "1.87\n",
      "{'nombre': 'Tutu', 'apellido': 'Fernandez', 'edad': 19, 'estatura': 1.87}\n",
      "Tutu\n",
      "dict_keys(['nombre', 'apellido', 'edad', 'estatura'])\n",
      "dict_values(['Tutu', 'Fernandez', 19, 1.87])\n",
      "dict_items([('nombre', 'Tutu'), ('apellido', 'Fernandez'), ('edad', 19), ('estatura', 1.87)])\n",
      "{'apellido': 'Fernandez', 'edad': 19, 'estatura': 1.87}\n"
     ]
    }
   ],
   "source": [
    "#Creando una lista\n",
    "mi_contacto = ['TUTU', 'FERNANDEZ',19, 1.87]\n",
    "estatura = mi_contacto[3]\n",
    "print(estatura)\n",
    "\n",
    "#Creando un diccionario\n",
    "mi_contacto1 = {'nombre': 'Tutu', \n",
    "               'apellido': 'Fernandez', \n",
    "               'edad': 19,\n",
    "               'estatura': 1.87}\n",
    "\n",
    "#Imprimo todo el diccionario\n",
    "print(mi_contacto1)\n",
    "\n",
    "#Imprimiendo un valor llamado a la clave\n",
    "print(mi_contacto1['nombre'])\n",
    "\n",
    "#Imprimir las claves del diccionario\n",
    "print(mi_contacto1.keys())\n",
    "\n",
    "#Imprimir las valores del diccionario\n",
    "print(mi_contacto1.values())\n",
    "\n",
    "#Imprimir las items del diccionario\n",
    "print(mi_contacto1.items())\n",
    "\n",
    "#Sobreescribi el valor de una clave\n",
    "mi_contacto1['nombre'] = 'Arturo'\n",
    "\n",
    "#Anhade una clve y valor en caso de que no exista\n",
    "mi_contacto1['peso'] = 87\n",
    "\n",
    "#Eliminar la ultima clave\n",
    "mi_contacto1.popitem()\n",
    "\n",
    "#Eliminar el valor y clave especifico\n",
    "\n",
    "del mi_contacto1['nombre']\n",
    "\n",
    "print(mi_contacto1)"
   ]
  },
  {
   "cell_type": "markdown",
   "metadata": {},
   "source": [
    "## Challenge \n",
    "\n",
    "Escribir un programa que cree un diccionario vacio y lo vaya llenando con informacion sobre una persona(por ejemplo nombre, edad, sexo, telefono, correo electronico, etc.) que se le pida al usuario. Cada vez que se añada un nuevo dato debe imprimirse el contenido del diccionario."
   ]
  },
  {
   "cell_type": "code",
   "execution_count": null,
   "metadata": {},
   "outputs": [],
   "source": [
    "datos_usuario = {}\n",
    "datos_usuario[\"nombre\"] = input('Introduce tu nombre')\n",
    "print(datos_usuario.items())\n",
    "datos_usuario[\"edad\"] = input('Introduce tu edad')\n",
    "print(datos_usuario.items())\n",
    "datos_usuario[\"sexo\"] = input('Introduce tu sexo')\n",
    "print(datos_usuario.items())\n",
    "datos_usuario[\"telefono\"] = input('Introduce tu telefono')\n",
    "print(datos_usuario.items())\n",
    "datos_usuario['Correo_electronico'] = input('Introduce tu correo')\n"
   ]
  },
  {
   "cell_type": "code",
   "execution_count": 53,
   "metadata": {},
   "outputs": [
    {
     "name": "stdout",
     "output_type": "stream",
     "text": [
      "{'nombre': 'sebastian', 'edad': '26', 'genero': 'm', 'telefono': '094r3434', 'correo': 'sebas_mingo'}\n"
     ]
    }
   ],
   "source": [
    "#solucion 1\n",
    "diccionario_vacio = {}\n",
    "\n",
    "lista_clave = ['nombre','edad','genero','telefono', 'correo']\n",
    "for clave in lista_clave:\n",
    "    diccionario_vacio[clave] = input(f'Ingrese el valor para la {clave}')\n",
    "print(diccionario_vacio)"
   ]
  },
  {
   "cell_type": "code",
   "execution_count": null,
   "metadata": {},
   "outputs": [],
   "source": [
    "diccionario_vacio = {}\n",
    "\n",
    "While True:\n",
    "    clave = input('Ingrese el valor para la clave')\n",
    "valor = input(f'Ingrese el valor para el value de la {clave}')\n",
    "if clave.lower() == 'salir':\n",
    "    break\n",
    "valor = input(f'Ingrese el valor para el value de la clave {clave}')\n",
    "if valor.lower() == 'salir':\n",
    "    break\n",
    "\n",
    "diccionario_vacio[clave] = valor\n",
    "print(diccionario_vacio)"
   ]
  }
 ],
 "metadata": {
  "kernelspec": {
   "display_name": "Python 3",
   "language": "python",
   "name": "python3"
  },
  "language_info": {
   "codemirror_mode": {
    "name": "ipython",
    "version": 3
   },
   "file_extension": ".py",
   "mimetype": "text/x-python",
   "name": "python",
   "nbconvert_exporter": "python",
   "pygments_lexer": "ipython3",
   "version": "3.11.6"
  }
 },
 "nbformat": 4,
 "nbformat_minor": 2
}
